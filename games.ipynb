{
 "cells": [
  {
   "cell_type": "code",
   "execution_count": 2,
   "metadata": {},
   "outputs": [],
   "source": [
    "import random\n",
    "\n",
    "money = 100"
   ]
  },
  {
   "cell_type": "markdown",
   "metadata": {},
   "source": [
    "<h2>Project requirements</h2>\n",
    "<ul>\n",
    "<li>The value of money should change depending on victorys or looses</li>\n",
    "<li>Print the result of each game</li>\n",
    "<li>Print if the player won or lost</li>\n",
    "<li>Print how much he won or lost</li>\n"
   ]
  },
  {
   "cell_type": "code",
   "execution_count": 3,
   "metadata": {},
   "outputs": [],
   "source": [
    "# FLIPPING COIN GAME:\n",
    "\n",
    "def flipping_coin_game(bet, player_choice):\n",
    "\n",
    "    # checking if the player has enough money to bet:\n",
    "    if money < bet:\n",
    "        print(\"You want to bet $ \"+ str(bet) + \" on \" + player_choice.lower() + \"?\")\n",
    "        print(\"Get out of here! You don't have that money...\")\n",
    "        return 0\n",
    "    \n",
    "    # validating players choice:\n",
    "    elif player_choice.lower() != \"heads\" and player_choice.lower() != \"tails\":\n",
    "        print(\"You want to bet on \" + player_choice.lower() + \"??\")\n",
    "        #print(\"What is \" + player_choice.lower() + \"!?\")\n",
    "        print(\"You must choose between 'heads' or 'tails'!\")\n",
    "        return 0\n",
    "    \n",
    "    # game on:\n",
    "    else:\n",
    "        print(\"OK, your bet is $ \"+ str(bet) + \" on \" + player_choice.lower())\n",
    "        print(\"*** COIN FLIPPING ***\")\n",
    "\n",
    "        # generating a random number between 1 an 2 inclusive:   \n",
    "        num = random.randint(1, 2)\n",
    "        \n",
    "        # assigning heads to number 1 and tails to number 2:\n",
    "        if num == 1:\n",
    "            coin_flipping_result = \"heads\"\n",
    "        else:\n",
    "            coin_flipping_result = \"tails\"\n",
    "        \n",
    "        print(coin_flipping_result.capitalize() + \"!\")\n",
    "\n",
    "        # comparing players choice vs coin flipping result:\n",
    "        if player_choice.lower() == coin_flipping_result:\n",
    "            game_result = \"win\"\n",
    "            bet_result = bet * 2\n",
    "        else:\n",
    "            game_result = \"loose\"\n",
    "            bet_result = bet * -1\n",
    "        \n",
    "        print(\"You \" + game_result + \" $\" + str(bet_result))\n",
    "\n",
    "        # flipping_coing_game function returns \"bet_result\"\n",
    "        return bet_result\n"
   ]
  },
  {
   "cell_type": "code",
   "execution_count": 3,
   "metadata": {},
   "outputs": [],
   "source": [
    "# CHO-HAN GAME:\n"
   ]
  },
  {
   "cell_type": "markdown",
   "metadata": {},
   "source": [
    "Call your game of chance functions here"
   ]
  },
  {
   "cell_type": "code",
   "execution_count": 8,
   "metadata": {},
   "outputs": [
    {
     "output_type": "stream",
     "name": "stdout",
     "text": [
      "Wallet: $140\nOK, your bet is $ 20 on tails\n*** COIN FLIPPING ***\nTails!\nYou win $40\nWallet: $180\n"
     ]
    }
   ],
   "source": [
    "print(\"Wallet: $\" + str(money))\n",
    "money += flipping_coin_game(20 , \"Tails\")\n",
    "\n",
    "print(\"Wallet: $\" + str(money))"
   ]
  }
 ],
 "metadata": {
  "kernelspec": {
   "display_name": "Python 3",
   "language": "python",
   "name": "python3"
  },
  "language_info": {
   "codemirror_mode": {
    "name": "ipython",
    "version": 3
   },
   "file_extension": ".py",
   "mimetype": "text/x-python",
   "name": "python",
   "nbconvert_exporter": "python",
   "pygments_lexer": "ipython3",
   "version": "3.8.3-final"
  }
 },
 "nbformat": 4,
 "nbformat_minor": 2
}